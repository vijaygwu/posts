{
  "nbformat": 4,
  "nbformat_minor": 0,
  "metadata": {
    "colab": {
      "provenance": [],
      "authorship_tag": "ABX9TyM//RZ/fCkVtDAKTFePpFdO",
      "include_colab_link": true
    },
    "kernelspec": {
      "name": "python3",
      "display_name": "Python 3"
    },
    "language_info": {
      "name": "python"
    }
  },
  "cells": [
    {
      "cell_type": "markdown",
      "metadata": {
        "id": "view-in-github",
        "colab_type": "text"
      },
      "source": [
        "<a href=\"https://colab.research.google.com/github/vijaygwu/classideas/blob/main/BGBB.ipynb\" target=\"_parent\"><img src=\"https://colab.research.google.com/assets/colab-badge.svg\" alt=\"Open In Colab\"/></a>"
      ]
    },
    {
      "cell_type": "code",
      "source": [
        "\n",
        "import numpy as np\n",
        "import scipy\n",
        "from scipy.optimize import differential_evolution\n",
        "from scipy.special import loggamma\n",
        "from scipy.optimize import minimize, Bounds\n",
        "from scipy.special import gammaln\n",
        "\n",
        "# Data\n",
        "x = np.array([3, 5, 2])  # purchase history\n",
        "x = [v/1000 for v in x] # Scale data\n",
        "tx = np.array([4, 6, 3])  # timing of the last purchase\n",
        "n = 6  # number of transaction opportunities\n",
        "f = np.array([200, 300, 100])  # frequency of customers\n",
        "\n",
        "\n",
        "# Define initial parameter guesses\n",
        "params0 = [0.5, 0.5, 0.5, 0.5]\n",
        "\n",
        "# Define the log-likelihood function\n",
        "def ll(params, x, tx, n, f):\n",
        "    # Unpack parameters\n",
        "    r, alpha, a, b = params\n",
        "\n",
        "    # Initialize log-likelihood\n",
        "    log_likelihood = 0\n",
        "\n",
        "    # Loop through each customer's data\n",
        "    for xj, txj, fj in zip(x, tx, f):\n",
        "        # Compute the probability of transaction\n",
        "        p_transaction = r / (r + alpha)\n",
        "\n",
        "        customer_ll = (\n",
        "            xj * np.log(p_transaction) + (n - xj) * np.log(1 - p_transaction) +\n",
        "            gammaln(a + b) - gammaln(a) - gammaln(b) + gammaln(xj + a) + gammaln(n - xj + b) - gammaln(n + a + b)\n",
        "        )\n",
        "\n",
        "\n",
        "        # Add to total log-likelihood\n",
        "        log_likelihood += fj * customer_ll\n",
        "\n",
        "    # Return the negative of the log-likelihood\n",
        "    return -log_likelihood\n",
        "\n",
        "\n",
        "# Specify the bounds using the Bounds class\n",
        "bounds = Bounds([1e-4, 1e-4, 1e-4, 1e-4], [10, 100, 1, 1])\n",
        "\n",
        "# Optimize using the trust-region reflective algorithm\n",
        "opt_result = minimize(ll, params0, args=(x, tx, n, f), method='trust-constr', bounds=bounds)\n",
        "\n",
        "# Perform the global optimization\n",
        "result = differential_evolution(\n",
        "    ll,\n",
        "    bounds,\n",
        "    args=(x, tx, n, f),\n",
        "    strategy='best1bin',\n",
        "    maxiter=1000,\n",
        "    popsize=15,\n",
        "    tol=0.01,\n",
        "    mutation=(0.5, 1),\n",
        "    recombination=0.7\n",
        ")\n",
        "\n",
        "# Display the estimated parameters\n",
        "print(f\"Global optimization estimated parameters: r = {result.x[0]}, alpha = {result.x[1]}, a = {result.x[2]}, b = {result.x[3]}\")\n",
        "\n",
        "\n",
        "# Based on the estimated parameters and the customer's history\n",
        "def predict_alive(r, alpha, x, tx, n):\n",
        "    p_alive = (r / (r + alpha))**x * ((r + alpha) / (r + alpha + n - tx))**(n - tx)\n",
        "    return p_alive\n",
        "\n",
        "# Predict the probability of the first customer being alive\n",
        "p_alive_first_customer = predict_alive(result.x[0], result.x[1], result.x[2], result.x[3], n)\n",
        "print(f\"\\nProbability of the first customer being alive: {p_alive_first_customer}\")\n",
        "\n",
        "\n",
        "\n",
        "\n"
      ],
      "metadata": {
        "colab": {
          "base_uri": "https://localhost:8080/"
        },
        "id": "3cFOBUe0O7wU",
        "outputId": "b69872d9-1c5e-43c0-8d22-a28b3a397bab"
      },
      "execution_count": 100,
      "outputs": [
        {
          "output_type": "stream",
          "name": "stdout",
          "text": [
            "Global optimization estimated parameters: r = 0.04961275395229879, alpha = 77.6063155810057, a = 0.03801772906115255, b = 1.0\n",
            "\n",
            "Probability of the first customer being alive: 0.5534167681001817\n"
          ]
        }
      ]
    }
  ]
}