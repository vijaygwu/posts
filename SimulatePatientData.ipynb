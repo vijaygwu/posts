{
  "nbformat": 4,
  "nbformat_minor": 0,
  "metadata": {
    "colab": {
      "provenance": [],
      "authorship_tag": "ABX9TyM2mMs+YeUxEC+MXxB+wvkx",
      "include_colab_link": true
    },
    "kernelspec": {
      "name": "python3",
      "display_name": "Python 3"
    },
    "language_info": {
      "name": "python"
    }
  },
  "cells": [
    {
      "cell_type": "markdown",
      "metadata": {
        "id": "view-in-github",
        "colab_type": "text"
      },
      "source": [
        "<a href=\"https://colab.research.google.com/github/vijaygwu/classideas/blob/main/SimulatePatientData.ipynb\" target=\"_parent\"><img src=\"https://colab.research.google.com/assets/colab-badge.svg\" alt=\"Open In Colab\"/></a>"
      ]
    },
    {
      "cell_type": "code",
      "source": [
        "import pandas as pd\n",
        "import numpy as np\n",
        "from sklearn.model_selection import train_test_split\n",
        "from sklearn.preprocessing import LabelEncoder\n",
        "import xgboost as xgb\n",
        "\n",
        "# Generate data\n",
        "df = pd.DataFrame()\n",
        "df['age'] = np.random.normal(45, 15, 1000)\n",
        "\n",
        "diagnoses = ['A', 'B', 'C', 'D']\n",
        "df['diagnosis'] = np.random.choice(diagnoses, 1000)\n",
        "\n",
        "treatments = ['tx1', 'tx2', 'tx3', 'tx4']\n",
        "df['treatment'] = np.random.choice(treatments, 1000)\n",
        "\n",
        "# Encode categorical data\n",
        "df['diagnosis'] = df['diagnosis'].astype('category')\n",
        "df['treatment'] = df['treatment'].astype('category')\n",
        "\n",
        "# Integer encode treatment\n",
        "le = LabelEncoder()\n",
        "y = le.fit_transform(df['treatment'])\n",
        "\n",
        "X = df.drop('treatment', axis=1)\n",
        "\n",
        "X_train, X_test, y_train, y_test = train_test_split(X, y, test_size=0.2)\n",
        "\n",
        "# Train model\n",
        "model = xgb.XGBClassifier(enable_categorical=True)\n",
        "model.fit(X_train, y_train)\n",
        "\n",
        "# Evaluate\n",
        "from sklearn.metrics import accuracy_score\n",
        "print(accuracy_score(y_test, model.predict(X_test)))"
      ],
      "metadata": {
        "colab": {
          "base_uri": "https://localhost:8080/"
        },
        "id": "wpB3YESXskFq",
        "outputId": "cb4f360b-4ff1-42fb-9b2c-f557a60bc353"
      },
      "execution_count": 10,
      "outputs": [
        {
          "output_type": "stream",
          "name": "stdout",
          "text": [
            "0.26\n"
          ]
        }
      ]
    }
  ]
}