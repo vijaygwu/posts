{
  "nbformat": 4,
  "nbformat_minor": 0,
  "metadata": {
    "colab": {
      "provenance": [],
      "authorship_tag": "ABX9TyNoCjOKQso6aRJ/QfBp9Or0",
      "include_colab_link": true
    },
    "kernelspec": {
      "name": "python3",
      "display_name": "Python 3"
    },
    "language_info": {
      "name": "python"
    }
  },
  "cells": [
    {
      "cell_type": "markdown",
      "metadata": {
        "id": "view-in-github",
        "colab_type": "text"
      },
      "source": [
        "<a href=\"https://colab.research.google.com/github/vijaygwu/classideas/blob/main/BLEU.ipynb\" target=\"_parent\"><img src=\"https://colab.research.google.com/assets/colab-badge.svg\" alt=\"Open In Colab\"/></a>"
      ]
    },
    {
      "cell_type": "code",
      "execution_count": 1,
      "metadata": {
        "colab": {
          "base_uri": "https://localhost:8080/"
        },
        "id": "rLJEqtYdv5wF",
        "outputId": "754e9185-2a6a-4049-869d-074757bdf70a"
      },
      "outputs": [
        {
          "output_type": "stream",
          "name": "stdout",
          "text": [
            "BLEU Score: 0.2735851212528237\n"
          ]
        }
      ],
      "source": [
        "import nltk\n",
        "from nltk.translate.bleu_score import sentence_bleu, SmoothingFunction\n",
        "\n",
        "def compute_bleu(reference_sentences, candidate_sentences):\n",
        "    \"\"\"\n",
        "    Compute BLEU score using nltk.\n",
        "\n",
        "    :param reference_sentences: List of reference sentences where each sentence is a list of words\n",
        "    :param candidate_sentences: List of candidate sentences where each sentence is a list of words\n",
        "    :return: BLEU score\n",
        "    \"\"\"\n",
        "\n",
        "    # Ensure you have equal number of reference and candidate sentences\n",
        "    assert len(reference_sentences) == len(candidate_sentences), \"Number of references and candidates should be equal.\"\n",
        "\n",
        "    # Use the smoothing function to handle cases where n-gram matches are 0\n",
        "    smoothing = SmoothingFunction().method1\n",
        "\n",
        "    # Calculate BLEU for each sentence pair and average them\n",
        "    bleu_scores = [sentence_bleu([ref], cand, smoothing_function=smoothing) for ref, cand in zip(reference_sentences, candidate_sentences)]\n",
        "\n",
        "    return sum(bleu_scores) / len(bleu_scores)\n",
        "\n",
        "# Example\n",
        "reference = [[\"this\", \"is\", \"a\", \"test\"], [\"hello\", \"world\"]]\n",
        "candidate = [[\"this\", \"is\", \"a\", \"trial\"], [\"hello\", \"planet\"]]\n",
        "\n",
        "bleu = compute_bleu(reference, candidate)\n",
        "print(\"BLEU Score:\", bleu)\n"
      ]
    }
  ]
}