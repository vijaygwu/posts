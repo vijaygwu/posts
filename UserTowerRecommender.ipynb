{
  "nbformat": 4,
  "nbformat_minor": 0,
  "metadata": {
    "colab": {
      "provenance": [],
      "authorship_tag": "ABX9TyPpiTUxaHgg9olnk6cX7C6J",
      "include_colab_link": true
    },
    "kernelspec": {
      "name": "python3",
      "display_name": "Python 3"
    },
    "language_info": {
      "name": "python"
    }
  },
  "cells": [
    {
      "cell_type": "markdown",
      "metadata": {
        "id": "view-in-github",
        "colab_type": "text"
      },
      "source": [
        "<a href=\"https://colab.research.google.com/github/vijaygwu/classideas/blob/main/UserTowerRecommender.ipynb\" target=\"_parent\"><img src=\"https://colab.research.google.com/assets/colab-badge.svg\" alt=\"Open In Colab\"/></a>"
      ]
    },
    {
      "cell_type": "code",
      "execution_count": 1,
      "metadata": {
        "colab": {
          "base_uri": "https://localhost:8080/"
        },
        "id": "rDAYrYbGsrFZ",
        "outputId": "93f5c92f-895b-4f6c-abce-28fa579d769f"
      },
      "outputs": [
        {
          "output_type": "stream",
          "name": "stdout",
          "text": [
            "tensor([[ 0.0055,  0.0503,  0.0205,  0.0525, -0.0180]],\n",
            "       grad_fn=<AddmmBackward0>)\n"
          ]
        }
      ],
      "source": [
        "import torch\n",
        "import torch.nn as nn\n",
        "import torch.nn.functional as F\n",
        "import torch.optim as optim\n",
        "\n",
        "class UserTowerRecommender(nn.Module):\n",
        "    def __init__(self, user_feature_dim, hidden_dims, num_categories):\n",
        "        super(UserTowerRecommender, self).__init__()\n",
        "\n",
        "        # Define the user tower as a series of dense layers\n",
        "        layers = []\n",
        "        input_dim = user_feature_dim\n",
        "        for hidden_dim in hidden_dims:\n",
        "            layers.append(nn.Linear(input_dim, hidden_dim))\n",
        "            layers.append(nn.ReLU())\n",
        "            layers.append(nn.Dropout(0.5))  # Add dropout for regularization\n",
        "            input_dim = hidden_dim\n",
        "        self.user_tower = nn.Sequential(*layers)\n",
        "\n",
        "        # Final layer to produce predictions for each category\n",
        "        self.output_layer = nn.Linear(input_dim, num_categories)\n",
        "\n",
        "    def forward(self, user_features):\n",
        "        user_out = self.user_tower(user_features)\n",
        "        return self.output_layer(user_out)\n",
        "\n",
        "# Example usage\n",
        "user_feature_dim = 10  # Suppose each user is represented by 10 features\n",
        "hidden_dims = [128, 64]  # Two hidden layers\n",
        "num_categories = 5  # Predict interest in 5 categories\n",
        "\n",
        "model = UserTowerRecommender(user_feature_dim, hidden_dims, num_categories)\n",
        "user_features = torch.rand((1, user_feature_dim))\n",
        "category_scores = model(user_features)\n",
        "\n",
        "print(category_scores)\n"
      ]
    }
  ]
}