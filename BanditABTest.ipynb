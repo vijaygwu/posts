{
  "nbformat": 4,
  "nbformat_minor": 0,
  "metadata": {
    "colab": {
      "provenance": [],
      "machine_shape": "hm",
      "gpuType": "A100",
      "authorship_tag": "ABX9TyNAGEaPtjP87vRuN0fMDDqh",
      "include_colab_link": true
    },
    "kernelspec": {
      "name": "python3",
      "display_name": "Python 3"
    },
    "language_info": {
      "name": "python"
    },
    "accelerator": "GPU"
  },
  "cells": [
    {
      "cell_type": "markdown",
      "metadata": {
        "id": "view-in-github",
        "colab_type": "text"
      },
      "source": [
        "<a href=\"https://colab.research.google.com/github/vijaygwu/classideas/blob/main/BanditABTest.ipynb\" target=\"_parent\"><img src=\"https://colab.research.google.com/assets/colab-badge.svg\" alt=\"Open In Colab\"/></a>"
      ]
    },
    {
      "cell_type": "code",
      "execution_count": 1,
      "metadata": {
        "colab": {
          "base_uri": "https://localhost:8080/"
        },
        "id": "-t-FhDJUHNtJ",
        "outputId": "869be965-7f89-41c2-b20f-ae21196d0629"
      },
      "outputs": [
        {
          "output_type": "stream",
          "name": "stdout",
          "text": [
            "Estimated values (conversion rates) for A and B: [0.0498633  0.05993963]\n",
            "Number of times A and B were shown: [7681. 2319.]\n"
          ]
        }
      ],
      "source": [
        "import numpy as np\n",
        "\n",
        "class EpsilonGreedy:\n",
        "    def __init__(self, n_arms, epsilon=0.1):\n",
        "        self.n_arms = n_arms\n",
        "        self.epsilon = epsilon\n",
        "        self.counts = np.zeros(n_arms)\n",
        "        self.values = np.zeros(n_arms)\n",
        "\n",
        "    def select_arm(self):\n",
        "        if np.random.random() < self.epsilon:\n",
        "            return np.random.randint(self.n_arms)\n",
        "        else:\n",
        "            return np.argmax(self.values)\n",
        "\n",
        "    def update(self, chosen_arm, reward):\n",
        "        self.counts[chosen_arm] += 1\n",
        "        n = self.counts[chosen_arm]\n",
        "        value = self.values[chosen_arm]\n",
        "        self.values[chosen_arm] = ((n - 1) / n) * value + (1 / n) * reward\n",
        "\n",
        "# Simulated A/B test using Epsilon-Greedy\n",
        "n_arms = 2  # Two designs: A and B\n",
        "bandit = EpsilonGreedy(n_arms, epsilon=0.1)\n",
        "\n",
        "n_users = 10000\n",
        "\n",
        "# Simulated conversion rates for A and B\n",
        "conversion_rates = [0.05, 0.06]\n",
        "\n",
        "for _ in range(n_users):\n",
        "    chosen_arm = bandit.select_arm()\n",
        "    reward = np.random.choice([0, 1], p=[1-conversion_rates[chosen_arm], conversion_rates[chosen_arm]])\n",
        "    bandit.update(chosen_arm, reward)\n",
        "\n",
        "print(f\"Estimated values (conversion rates) for A and B: {bandit.values}\")\n",
        "print(f\"Number of times A and B were shown: {bandit.counts}\")\n"
      ]
    },
    {
      "cell_type": "markdown",
      "source": [
        "Using a bandit algorithm for A/B testing is a great way to dynamically allocate traffic to different variants in a way that continually optimizes for the best-performing variant. This is in contrast to traditional A/B testing, where traffic is evenly split between variants for the duration of the test.\n",
        "\n",
        "For simplicity, I'll use the Epsilon-Greedy algorithm as our bandit approach for this A/B test example. Assume you have two web page designs, A and B, and you want to determine which one results in more user conversions (e.g., sign-ups or purchases).\n",
        "\n"
      ],
      "metadata": {
        "id": "AFgm5yeUHjxg"
      }
    },
    {
      "cell_type": "markdown",
      "source": [
        "Let's set it up:\n",
        "\n",
        "Setup the experiment:\n",
        "\n",
        "Design A is variant 0.\n",
        "Design B is variant 1.\n",
        "Our reward will be 1 if a user converts and 0 otherwise.\n",
        "\n",
        "Simulate user interactions:\n",
        "\n",
        "For the sake of this example, we'll simulate user interactions. In a real-world scenario, you would integrate the bandit algorithm with your web server to serve designs and observe user interactions."
      ],
      "metadata": {
        "id": "BIxsle9bHsEe"
      }
    },
    {
      "cell_type": "markdown",
      "source": [
        "In this example, we simulated 10,000 users interacting with our website. Design A has a conversion rate of 5%, while Design B has a conversion rate of 6%. The bandit algorithm, as it gains more information, will increasingly favor showing Design B to users, since it converts better.\n",
        "\n",
        "In practice, rather than simulating users, you'd integrate this bandit setup into your web server's logic. When a user visits the site, select_arm would determine which design to show, and user interactions would provide the \"reward\" to the update metho"
      ],
      "metadata": {
        "id": "1OkMnsWAHuwv"
      }
    },
    {
      "cell_type": "markdown",
      "source": [],
      "metadata": {
        "id": "hdgHLRUTH0Pe"
      }
    }
  ]
}