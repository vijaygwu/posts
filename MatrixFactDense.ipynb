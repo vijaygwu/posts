{
  "nbformat": 4,
  "nbformat_minor": 0,
  "metadata": {
    "colab": {
      "provenance": [],
      "authorship_tag": "ABX9TyO8bgQ1bWmBXgG2r4v31WS0",
      "include_colab_link": true
    },
    "kernelspec": {
      "name": "python3",
      "display_name": "Python 3"
    },
    "language_info": {
      "name": "python"
    }
  },
  "cells": [
    {
      "cell_type": "markdown",
      "metadata": {
        "id": "view-in-github",
        "colab_type": "text"
      },
      "source": [
        "<a href=\"https://colab.research.google.com/github/vijaygwu/classideas/blob/main/MatrixFactDense.ipynb\" target=\"_parent\"><img src=\"https://colab.research.google.com/assets/colab-badge.svg\" alt=\"Open In Colab\"/></a>"
      ]
    },
    {
      "cell_type": "code",
      "execution_count": 1,
      "metadata": {
        "colab": {
          "base_uri": "https://localhost:8080/"
        },
        "id": "Vl7DFGfUdRsZ",
        "outputId": "bc7d58c1-89b8-451a-8c4c-710adb03b4c4"
      },
      "outputs": [
        {
          "output_type": "stream",
          "name": "stdout",
          "text": [
            "User embeddings (dense vectors):\n",
            "[[-0.43689593 -0.66924125  0.29627751 -0.48637475]\n",
            " [-0.29717498 -0.44308727  0.05015708  0.79591123]\n",
            " [-0.51589728  0.13631518 -0.54893193 -0.28612203]\n",
            " [-0.39999635  0.11077382 -0.48349385  0.20569271]\n",
            " [-0.54282768  0.5700326   0.61205501  0.0760895 ]]\n",
            "\n",
            "Item embeddings (dense vectors):\n",
            "[[-0.47488998 -0.78203025  0.17212379  0.36507752]\n",
            " [-0.26234348 -0.20891356  0.25224247 -0.907692  ]\n",
            " [-0.3005118   0.45754472  0.81089006  0.20688838]\n",
            " [-0.78444124  0.36801718 -0.49920382  0.00329281]]\n"
          ]
        }
      ],
      "source": [
        "import numpy as np\n",
        "\n",
        "# Sample user-item interaction matrix (ratings)\n",
        "R = np.array([\n",
        "    [5, 3, 0, 1],\n",
        "    [4, 0, 0, 1],\n",
        "    [1, 1, 0, 5],\n",
        "    [1, 0, 0, 4],\n",
        "    [0, 1, 5, 4],\n",
        "])\n",
        "\n",
        "# Perform SVD\n",
        "U, sigma, Vt = np.linalg.svd(R, full_matrices=False)\n",
        "\n",
        "print(\"User embeddings (dense vectors):\")\n",
        "print(U)\n",
        "\n",
        "print(\"\\nItem embeddings (dense vectors):\")\n",
        "print(Vt.T)\n"
      ]
    }
  ]
}