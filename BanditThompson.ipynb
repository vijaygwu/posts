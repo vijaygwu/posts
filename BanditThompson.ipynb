{
  "nbformat": 4,
  "nbformat_minor": 0,
  "metadata": {
    "colab": {
      "provenance": [],
      "machine_shape": "hm",
      "gpuType": "A100",
      "authorship_tag": "ABX9TyPPRLWlRmA/uHtQAWBcT77Q",
      "include_colab_link": true
    },
    "kernelspec": {
      "name": "python3",
      "display_name": "Python 3"
    },
    "language_info": {
      "name": "python"
    },
    "accelerator": "GPU"
  },
  "cells": [
    {
      "cell_type": "markdown",
      "metadata": {
        "id": "view-in-github",
        "colab_type": "text"
      },
      "source": [
        "<a href=\"https://colab.research.google.com/github/vijaygwu/classideas/blob/main/BanditThompson.ipynb\" target=\"_parent\"><img src=\"https://colab.research.google.com/assets/colab-badge.svg\" alt=\"Open In Colab\"/></a>"
      ]
    },
    {
      "cell_type": "code",
      "execution_count": 1,
      "metadata": {
        "colab": {
          "base_uri": "https://localhost:8080/"
        },
        "id": "JF25SrPoAJzd",
        "outputId": "c68bfb26-788a-4994-de90-06afab827ed8"
      },
      "outputs": [
        {
          "output_type": "stream",
          "name": "stdout",
          "text": [
            "[  7.   2. 810.]\n",
            "[  8.   5. 174.]\n"
          ]
        }
      ],
      "source": [
        "import numpy as np\n",
        "\n",
        "class ThompsonSampling:\n",
        "    def __init__(self, n_arms):\n",
        "        self.n_arms = n_arms\n",
        "        self.alpha = np.ones(n_arms)  # number of times reward received\n",
        "        self.beta = np.ones(n_arms)   # number of times no reward received\n",
        "\n",
        "    def select_arm(self):\n",
        "        \"\"\"Return the index of the next arm to pull.\"\"\"\n",
        "        theta_samples = [np.random.beta(self.alpha[i], self.beta[i]) for i in range(self.n_arms)]\n",
        "        return np.argmax(theta_samples)\n",
        "\n",
        "    def update(self, chosen_arm, reward):\n",
        "        \"\"\"Update the alpha and beta parameters based on the received reward.\"\"\"\n",
        "        if reward == 1:\n",
        "            self.alpha[chosen_arm] += 1\n",
        "        else:\n",
        "            self.beta[chosen_arm] += 1\n",
        "\n",
        "# Example usage:\n",
        "n_arms = 3\n",
        "bandit = ThompsonSampling(n_arms)\n",
        "\n",
        "for _ in range(1000):\n",
        "    chosen_arm = bandit.select_arm()\n",
        "    # Here, you would pull the chosen arm and observe a reward.\n",
        "    # For this example, let's simulate a reward using a random choice.\n",
        "    reward = np.random.choice([0, 1], p=[0.8 if chosen_arm != 2 else 0.2, 0.2 if chosen_arm != 2 else 0.8])\n",
        "    bandit.update(chosen_arm, reward)\n",
        "\n",
        "print(bandit.alpha)\n",
        "print(bandit.beta)\n"
      ]
    }
  ]
}