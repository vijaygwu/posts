{
  "nbformat": 4,
  "nbformat_minor": 0,
  "metadata": {
    "colab": {
      "provenance": [],
      "authorship_tag": "ABX9TyODPdgCZymim7aZf1dr+hLT",
      "include_colab_link": true
    },
    "kernelspec": {
      "name": "python3",
      "display_name": "Python 3"
    },
    "language_info": {
      "name": "python"
    }
  },
  "cells": [
    {
      "cell_type": "markdown",
      "metadata": {
        "id": "view-in-github",
        "colab_type": "text"
      },
      "source": [
        "<a href=\"https://colab.research.google.com/github/vijaygwu/classideas/blob/main/QLearning.ipynb\" target=\"_parent\"><img src=\"https://colab.research.google.com/assets/colab-badge.svg\" alt=\"Open In Colab\"/></a>"
      ]
    },
    {
      "cell_type": "markdown",
      "source": [
        "** FrozenLake-v0 environment **\n",
        "\n",
        "This is a grid world where the agent must navigate from the start to the goal without falling into holes.\n",
        "\n",
        "** The FrozenLake Environment Details: **\n",
        "\n",
        "The agent moves through a 4x4 grid world.\n",
        "\n",
        "States: One for each of the 16 grid cells.\n",
        "Actions: {Left, Right, Up, Down}.\n",
        "Rewards: 0 for most transitions, 1 for reaching the goal, and 0 for falling into a hole.\n",
        "The episode terminates when the agent reaches the goal or falls into a hole."
      ],
      "metadata": {
        "id": "9k4njDNuDQlF"
      }
    },
    {
      "cell_type": "markdown",
      "source": [
        "This script sets up the FrozenLake-v0 environment, initializes the Q-table, and then iterates through episodes, updating the Q-values as it learns. After training, the agent's policy (derived from the Q-table) is tested over a few episodes."
      ],
      "metadata": {
        "id": "KG84nRqcD6aG"
      }
    },
    {
      "cell_type": "code",
      "source": [
        "import numpy as np\n",
        "import gym\n",
        "\n",
        "# Initialize the \"FrozenLake\" environment\n",
        "env = gym.make('FrozenLake-v1')\n",
        "\n",
        "# Q-learning parameters\n",
        "learning_rate = 0.1\n",
        "discount_factor = 0.99\n",
        "exploration_rate = 1.0\n",
        "max_exploration_rate = 1.0\n",
        "min_exploration_rate = 0.01\n",
        "exploration_decay_rate = 0.001\n",
        "num_episodes = 10000\n",
        "\n",
        "# Initialize the Q-table: state_size x action_size\n",
        "q_table = np.zeros((env.observation_space.n, env.action_space.n))\n",
        "\n",
        "for episode in range(num_episodes):\n",
        "    state = env.reset()\n",
        "    done = False\n",
        "\n",
        "    while not done:\n",
        "        # Choose action using epsilon-greedy policy\n",
        "        if np.random.uniform(0, 1) < exploration_rate:\n",
        "            action = env.action_space.sample()  # Explore: choose random action\n",
        "        else:\n",
        "            action = np.argmax(q_table[state, :])  # Exploit: choose best action from Q-table\n",
        "\n",
        "        new_state, reward, done, _ = env.step(action)\n",
        "\n",
        "        # Update Q-value using the Bellman equation\n",
        "        q_table[state, action] = q_table[state, action] + learning_rate * \\\n",
        "                                (reward + discount_factor * np.max(q_table[new_state, :]) - q_table[state, action])\n",
        "\n",
        "        state = new_state\n",
        "\n",
        "    # Decay exploration rate to reduce exploration over time\n",
        "    exploration_rate = min_exploration_rate + \\\n",
        "                       (max_exploration_rate - min_exploration_rate) * np.exp(-exploration_decay_rate * episode)\n",
        "\n",
        "# Test the trained agent\n",
        "total_test_rewards = []\n",
        "for episode in range(3):\n",
        "    state = env.reset()\n",
        "    done = False\n",
        "    total_rewards = 0\n",
        "    print(\"EPISODE \", episode+1, \"\\n\\n\\n\\n\")\n",
        "    env.render()\n",
        "\n",
        "    while not done:\n",
        "        action = np.argmax(q_table[state, :])\n",
        "        new_state, reward, done, _ = env.step(action)\n",
        "        total_rewards += reward\n",
        "        env.render()\n",
        "        state = new_state\n",
        "\n",
        "    total_test_rewards.append(total_rewards)\n",
        "\n",
        "print(\"Average test reward: \", sum(total_test_rewards)/3)\n"
      ],
      "metadata": {
        "colab": {
          "base_uri": "https://localhost:8080/"
        },
        "id": "YlsSORDaDvXj",
        "outputId": "e0ff858f-94db-452c-eba3-6213a3807af6"
      },
      "execution_count": 2,
      "outputs": [
        {
          "output_type": "stream",
          "name": "stderr",
          "text": [
            "/usr/local/lib/python3.10/dist-packages/gym/core.py:317: DeprecationWarning: \u001b[33mWARN: Initializing wrapper in old step API which returns one bool instead of two. It is recommended to set `new_step_api=True` to use new step API. This will be the default behaviour in future.\u001b[0m\n",
            "  deprecation(\n",
            "/usr/local/lib/python3.10/dist-packages/gym/wrappers/step_api_compatibility.py:39: DeprecationWarning: \u001b[33mWARN: Initializing environment in old step API which returns one bool instead of two. It is recommended to set `new_step_api=True` to use new step API. This will be the default behaviour in future.\u001b[0m\n",
            "  deprecation(\n"
          ]
        },
        {
          "output_type": "stream",
          "name": "stdout",
          "text": [
            "EPISODE  1 \n",
            "\n",
            "\n",
            "\n",
            "\n"
          ]
        },
        {
          "output_type": "stream",
          "name": "stderr",
          "text": [
            "/usr/local/lib/python3.10/dist-packages/gym/core.py:49: DeprecationWarning: \u001b[33mWARN: You are calling render method, but you didn't specified the argument render_mode at environment initialization. To maintain backward compatibility, the environment will render in human mode.\n",
            "If you want to render in human mode, initialize the environment in this way: gym.make('EnvName', render_mode='human') and don't call the render method.\n",
            "See here for more information: https://www.gymlibrary.ml/content/api/\u001b[0m\n",
            "  deprecation(\n"
          ]
        },
        {
          "output_type": "stream",
          "name": "stdout",
          "text": [
            "EPISODE  2 \n",
            "\n",
            "\n",
            "\n",
            "\n",
            "EPISODE  3 \n",
            "\n",
            "\n",
            "\n",
            "\n",
            "Average test reward:  1.0\n"
          ]
        }
      ]
    }
  ]
}