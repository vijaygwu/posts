{
  "nbformat": 4,
  "nbformat_minor": 0,
  "metadata": {
    "colab": {
      "provenance": [],
      "authorship_tag": "ABX9TyOskLirjyyMdz7ooceQFP1b",
      "include_colab_link": true
    },
    "kernelspec": {
      "name": "python3",
      "display_name": "Python 3"
    },
    "language_info": {
      "name": "python"
    }
  },
  "cells": [
    {
      "cell_type": "markdown",
      "metadata": {
        "id": "view-in-github",
        "colab_type": "text"
      },
      "source": [
        "<a href=\"https://colab.research.google.com/github/vijaygwu/classideas/blob/main/ContextualRecommender.ipynb\" target=\"_parent\"><img src=\"https://colab.research.google.com/assets/colab-badge.svg\" alt=\"Open In Colab\"/></a>"
      ]
    },
    {
      "cell_type": "code",
      "source": [
        "\n",
        "import torch\n",
        "import torch.nn as nn\n",
        "import torch.nn.functional as F\n",
        "import torch.optim as optim\n",
        "\n",
        "class ComplexContextualRecommender(nn.Module):\n",
        "    def __init__(self, num_users, num_items, num_contexts, user_embed_dim, item_embed_dim, context_embed_dim):\n",
        "        super(ComplexContextualRecommender, self).__init__()\n",
        "\n",
        "        # Embedding layers with different dimensions\n",
        "        self.user_embedding = nn.Embedding(num_users, user_embed_dim)\n",
        "        self.item_embedding = nn.Embedding(num_items, item_embed_dim)\n",
        "        self.context_embedding = nn.Embedding(num_contexts, context_embed_dim)\n",
        "\n",
        "        # Calculate total embeddings dimension\n",
        "        total_embed_dim = user_embed_dim + item_embed_dim + context_embed_dim\n",
        "\n",
        "        # Dense layers with InstanceNorm and Dropout\n",
        "        self.fc1 = nn.Linear(total_embed_dim, 256)\n",
        "        self.in1 = nn.InstanceNorm1d(256)\n",
        "        self.fc2 = nn.Linear(256, 128)\n",
        "        self.in2 = nn.InstanceNorm1d(128)\n",
        "        self.fc3 = nn.Linear(128, 64)\n",
        "        self.in3 = nn.InstanceNorm1d(64)\n",
        "        self.fc_out = nn.Linear(64, 1)  # Output a score\n",
        "        self.dropout = nn.Dropout(0.5)\n",
        "\n",
        "    def forward(self, user, item, context):\n",
        "        user_embed = self.user_embedding(user)\n",
        "        item_embed = self.item_embedding(item)\n",
        "        context_embed = self.context_embedding(context)\n",
        "\n",
        "        # Concatenate the embeddings\n",
        "        x = torch.cat([user_embed, item_embed, context_embed], 1)\n",
        "\n",
        "        # Pass through dense layers with activations, instance normalization, and dropout\n",
        "        x = self.dropout(F.relu(self.in1(self.fc1(x).unsqueeze(1)).squeeze(1)))\n",
        "        x = self.dropout(F.relu(self.in2(self.fc2(x).unsqueeze(1)).squeeze(1)))\n",
        "        x = self.dropout(F.relu(self.in3(self.fc3(x).unsqueeze(1)).squeeze(1)))\n",
        "        x = self.fc_out(x)\n",
        "        return x\n",
        "\n",
        "\n",
        "# Hyperparameters and Data\n",
        "num_users = 1000\n",
        "num_items = 5000\n",
        "num_contexts = 3\n",
        "user_embed_dim = 50\n",
        "item_embed_dim = 100\n",
        "context_embed_dim = 10\n",
        "batch_size = 32\n",
        "\n",
        "# Initialize the complex model\n",
        "model = ComplexContextualRecommender(num_users, num_items, num_contexts, user_embed_dim, item_embed_dim, context_embed_dim)\n",
        "criterion = nn.MSELoss() # Assuming a regression problem\n",
        "optimizer = optim.Adam(model.parameters(), lr=0.001)\n",
        "\n",
        "# Generate random sample data\n",
        "users = torch.randint(0, num_users, (1000,))\n",
        "items = torch.randint(0, num_items, (1000,))\n",
        "contexts = torch.randint(0, num_contexts, (1000,))\n",
        "ratings = torch.rand((1000, 1)) # Random ratings\n",
        "\n",
        "\n",
        "# Sample Training loop for 100 epochs\n",
        "for epoch in range(100):\n",
        "    model.train()\n",
        "    total_loss = 0.0\n",
        "\n",
        "    # Create mini-batches\n",
        "    for i in range(0, len(users), batch_size):\n",
        "        batch_users = users[i:i+batch_size]\n",
        "        batch_items = items[i:i+batch_size]\n",
        "        batch_contexts = contexts[i:i+batch_size]\n",
        "        batch_ratings = ratings[i:i+batch_size]\n",
        "\n",
        "        # Skip the batch if size is 1\n",
        "        if len(batch_users) == 1:\n",
        "            continue\n",
        "\n",
        "        optimizer.zero_grad()\n",
        "        outputs = model(batch_users, batch_items, batch_contexts)\n",
        "        loss = criterion(outputs, batch_ratings)\n",
        "        loss.backward()\n",
        "        optimizer.step()\n",
        "\n",
        "        total_loss += loss.item()\n",
        "\n",
        "    if (epoch+1) % 10 == 0:\n",
        "        avg_loss = total_loss / (len(users) // batch_size)\n",
        "        print(f'Epoch [{epoch+1}/100], Loss: {avg_loss:.4f}')\n",
        "\n",
        "\n",
        "# Example prediction\n",
        "user = torch.tensor([5])\n",
        "item = torch.tensor([100])\n",
        "context = torch.tensor([2])\n",
        "score = model(user, item, context)\n",
        "print(f\"Predicted Score: {score.item():.4f}\")\n"
      ],
      "metadata": {
        "colab": {
          "base_uri": "https://localhost:8080/"
        },
        "id": "_uoOmEsboTrS",
        "outputId": "26848a5f-4170-49f8-97a4-534fc7221366"
      },
      "execution_count": 4,
      "outputs": [
        {
          "output_type": "stream",
          "name": "stdout",
          "text": [
            "Epoch [10/100], Loss: 0.0953\n",
            "Epoch [20/100], Loss: 0.0733\n",
            "Epoch [30/100], Loss: 0.0398\n",
            "Epoch [40/100], Loss: 0.0275\n",
            "Epoch [50/100], Loss: 0.0195\n",
            "Epoch [60/100], Loss: 0.0143\n",
            "Epoch [70/100], Loss: 0.0132\n",
            "Epoch [80/100], Loss: 0.0109\n",
            "Epoch [90/100], Loss: 0.0104\n",
            "Epoch [100/100], Loss: 0.0101\n",
            "Predicted Score: 0.2313\n"
          ]
        }
      ]
    }
  ]
}