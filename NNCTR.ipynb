{
  "nbformat": 4,
  "nbformat_minor": 0,
  "metadata": {
    "colab": {
      "provenance": [],
      "authorship_tag": "ABX9TyPoYcXTj+k8R5/KMvYqnI4V",
      "include_colab_link": true
    },
    "kernelspec": {
      "name": "python3",
      "display_name": "Python 3"
    },
    "language_info": {
      "name": "python"
    }
  },
  "cells": [
    {
      "cell_type": "markdown",
      "metadata": {
        "id": "view-in-github",
        "colab_type": "text"
      },
      "source": [
        "<a href=\"https://colab.research.google.com/github/vijaygwu/classideas/blob/main/NNCTR.ipynb\" target=\"_parent\"><img src=\"https://colab.research.google.com/assets/colab-badge.svg\" alt=\"Open In Colab\"/></a>"
      ]
    },
    {
      "cell_type": "code",
      "execution_count": null,
      "metadata": {
        "id": "W5Uizbjy3Jc6"
      },
      "outputs": [],
      "source": [
        "import torch\n",
        "import torch.nn as nn\n",
        "import torch.optim as optim\n",
        "\n",
        "# Define the neural network structure\n",
        "class CTRPredictor(nn.Module):\n",
        "    def __init__(self, input_dim):\n",
        "        super(CTRPredictor, self).__init__()\n",
        "        self.fc1 = nn.Linear(input_dim, 128)  # First hidden layer with 128 neurons\n",
        "        self.fc2 = nn.Linear(128, 64)  # Second hidden layer with 64 neurons\n",
        "        self.fc3 = nn.Linear(64, 1)  # Output layer with 1 neuron (CTR prediction)\n",
        "\n",
        "        self.dropout = nn.Dropout(0.5)  # Dropout layer to prevent overfitting\n",
        "        self.sigmoid = nn.Sigmoid()  # Sigmoid activation for binary classification\n",
        "\n",
        "    def forward(self, x):\n",
        "        x = torch.relu(self.fc1(x))\n",
        "        x = self.dropout(x)\n",
        "        x = torch.relu(self.fc2(x))\n",
        "        x = self.dropout(x)\n",
        "        x = self.sigmoid(self.fc3(x))\n",
        "        return x\n",
        "\n",
        "# Hyperparameters\n",
        "input_dim = 10  # For demonstration, assuming 10 features. Adjust as per your dataset.\n",
        "learning_rate = 0.001\n",
        "num_epochs = 10\n",
        "\n",
        "# Model, Loss and Optimizer\n",
        "model = CTRPredictor(input_dim)\n",
        "criterion = nn.BCELoss()  # Binary Cross Entropy Loss for binary classification\n",
        "optimizer = optim.Adam(model.parameters(), lr=learning_rate)\n",
        "\n",
        "# Dummy data for demonstration\n",
        "# Adjust this to load your actual data\n",
        "num_samples = 1000\n",
        "x_train = torch.rand((num_samples, input_dim))\n",
        "y_train = torch.randint(0, 2, (num_samples, 1), dtype=torch.float32)\n",
        "\n",
        "# Training loop\n",
        "for epoch in range(num_epochs):\n",
        "    outputs = model(x_train)\n",
        "    loss = criterion(outputs, y_train)\n",
        "\n",
        "    optimizer.zero_grad()\n",
        "    loss.backward()\n",
        "    optimizer.step()\n",
        "\n",
        "    print(f\"Epoch [{epoch+1}/{num_epochs}], Loss: {loss.item():.4f}\")\n"
      ]
    }
  ]
}