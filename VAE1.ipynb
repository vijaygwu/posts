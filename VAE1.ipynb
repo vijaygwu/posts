{
  "nbformat": 4,
  "nbformat_minor": 0,
  "metadata": {
    "colab": {
      "provenance": [],
      "machine_shape": "hm",
      "gpuType": "A100",
      "authorship_tag": "ABX9TyO2j5GWuVtGH22cKR9JAsq/",
      "include_colab_link": true
    },
    "kernelspec": {
      "name": "python3",
      "display_name": "Python 3"
    },
    "language_info": {
      "name": "python"
    },
    "accelerator": "GPU"
  },
  "cells": [
    {
      "cell_type": "markdown",
      "metadata": {
        "id": "view-in-github",
        "colab_type": "text"
      },
      "source": [
        "<a href=\"https://colab.research.google.com/github/vijaygwu/classideas/blob/main/VAE1.ipynb\" target=\"_parent\"><img src=\"https://colab.research.google.com/assets/colab-badge.svg\" alt=\"Open In Colab\"/></a>"
      ]
    },
    {
      "cell_type": "code",
      "execution_count": 1,
      "metadata": {
        "colab": {
          "base_uri": "https://localhost:8080/"
        },
        "id": "jmJXOGrfgCN2",
        "outputId": "4a830023-0c7d-479e-a198-c453622cacd9"
      },
      "outputs": [
        {
          "output_type": "stream",
          "name": "stdout",
          "text": [
            "Downloading http://yann.lecun.com/exdb/mnist/train-images-idx3-ubyte.gz\n",
            "Downloading http://yann.lecun.com/exdb/mnist/train-images-idx3-ubyte.gz to ./data/MNIST/raw/train-images-idx3-ubyte.gz\n"
          ]
        },
        {
          "output_type": "stream",
          "name": "stderr",
          "text": [
            "100%|██████████| 9912422/9912422 [00:00<00:00, 96929573.67it/s]"
          ]
        },
        {
          "output_type": "stream",
          "name": "stdout",
          "text": [
            "Extracting ./data/MNIST/raw/train-images-idx3-ubyte.gz to ./data/MNIST/raw\n"
          ]
        },
        {
          "output_type": "stream",
          "name": "stderr",
          "text": [
            "\n"
          ]
        },
        {
          "output_type": "stream",
          "name": "stdout",
          "text": [
            "\n",
            "Downloading http://yann.lecun.com/exdb/mnist/train-labels-idx1-ubyte.gz\n",
            "Downloading http://yann.lecun.com/exdb/mnist/train-labels-idx1-ubyte.gz to ./data/MNIST/raw/train-labels-idx1-ubyte.gz\n"
          ]
        },
        {
          "output_type": "stream",
          "name": "stderr",
          "text": [
            "100%|██████████| 28881/28881 [00:00<00:00, 23567255.61it/s]\n"
          ]
        },
        {
          "output_type": "stream",
          "name": "stdout",
          "text": [
            "Extracting ./data/MNIST/raw/train-labels-idx1-ubyte.gz to ./data/MNIST/raw\n",
            "\n",
            "Downloading http://yann.lecun.com/exdb/mnist/t10k-images-idx3-ubyte.gz\n",
            "Downloading http://yann.lecun.com/exdb/mnist/t10k-images-idx3-ubyte.gz to ./data/MNIST/raw/t10k-images-idx3-ubyte.gz\n"
          ]
        },
        {
          "output_type": "stream",
          "name": "stderr",
          "text": [
            "100%|██████████| 1648877/1648877 [00:00<00:00, 104236622.00it/s]"
          ]
        },
        {
          "output_type": "stream",
          "name": "stdout",
          "text": [
            "Extracting ./data/MNIST/raw/t10k-images-idx3-ubyte.gz to ./data/MNIST/raw\n",
            "\n",
            "Downloading http://yann.lecun.com/exdb/mnist/t10k-labels-idx1-ubyte.gz\n"
          ]
        },
        {
          "output_type": "stream",
          "name": "stderr",
          "text": [
            "\n"
          ]
        },
        {
          "output_type": "stream",
          "name": "stdout",
          "text": [
            "Downloading http://yann.lecun.com/exdb/mnist/t10k-labels-idx1-ubyte.gz to ./data/MNIST/raw/t10k-labels-idx1-ubyte.gz\n"
          ]
        },
        {
          "output_type": "stream",
          "name": "stderr",
          "text": [
            "100%|██████████| 4542/4542 [00:00<00:00, 3891834.27it/s]"
          ]
        },
        {
          "output_type": "stream",
          "name": "stdout",
          "text": [
            "Extracting ./data/MNIST/raw/t10k-labels-idx1-ubyte.gz to ./data/MNIST/raw\n",
            "\n"
          ]
        },
        {
          "output_type": "stream",
          "name": "stderr",
          "text": [
            "\n"
          ]
        },
        {
          "output_type": "stream",
          "name": "stdout",
          "text": [
            "Epoch: 1 \t Loss: 192.29559204101562\n",
            "Epoch: 2 \t Loss: 168.89347835286458\n",
            "Epoch: 3 \t Loss: 164.20819223632813\n",
            "Epoch: 4 \t Loss: 161.56139915364582\n",
            "Epoch: 5 \t Loss: 159.78053754882814\n",
            "Epoch: 6 \t Loss: 158.4600842122396\n",
            "Epoch: 7 \t Loss: 157.44611544596353\n",
            "Epoch: 8 \t Loss: 156.64754497070314\n",
            "Epoch: 9 \t Loss: 155.96837330729167\n",
            "Epoch: 10 \t Loss: 155.36627189127603\n",
            "Epoch: 11 \t Loss: 154.8243448079427\n",
            "Epoch: 12 \t Loss: 154.328567578125\n",
            "Epoch: 13 \t Loss: 153.87484010416668\n",
            "Epoch: 14 \t Loss: 153.4072259440104\n",
            "Epoch: 15 \t Loss: 153.1374827311198\n",
            "Epoch: 16 \t Loss: 152.78847809244792\n",
            "Epoch: 17 \t Loss: 152.48030992838542\n",
            "Epoch: 18 \t Loss: 152.15377875976563\n",
            "Epoch: 19 \t Loss: 151.8882744466146\n",
            "Epoch: 20 \t Loss: 151.62802752278645\n",
            "Epoch: 21 \t Loss: 151.3557314127604\n",
            "Epoch: 22 \t Loss: 151.21542177734375\n",
            "Epoch: 23 \t Loss: 150.95098434244792\n",
            "Epoch: 24 \t Loss: 150.7164887044271\n",
            "Epoch: 25 \t Loss: 150.52951546223957\n",
            "Epoch: 26 \t Loss: 150.37076280924478\n",
            "Epoch: 27 \t Loss: 150.17106214192708\n",
            "Epoch: 28 \t Loss: 149.95610356445312\n",
            "Epoch: 29 \t Loss: 149.7831918294271\n",
            "Epoch: 30 \t Loss: 149.66008033854166\n",
            "Epoch: 31 \t Loss: 149.5214506347656\n",
            "Epoch: 32 \t Loss: 149.36585595703124\n",
            "Epoch: 33 \t Loss: 149.21138930664063\n",
            "Epoch: 34 \t Loss: 149.04958888346354\n",
            "Epoch: 35 \t Loss: 148.95785079752605\n",
            "Epoch: 36 \t Loss: 148.7664865559896\n",
            "Epoch: 37 \t Loss: 148.66975017903647\n",
            "Epoch: 38 \t Loss: 148.5483916015625\n",
            "Epoch: 39 \t Loss: 148.40501310221353\n",
            "Epoch: 40 \t Loss: 148.3143571126302\n",
            "Epoch: 41 \t Loss: 148.18118540039063\n",
            "Epoch: 42 \t Loss: 148.09298815104168\n",
            "Epoch: 43 \t Loss: 147.99180874023438\n",
            "Epoch: 44 \t Loss: 147.85204013671876\n",
            "Epoch: 45 \t Loss: 147.76840818684894\n",
            "Epoch: 46 \t Loss: 147.64820919596355\n",
            "Epoch: 47 \t Loss: 147.5585657389323\n",
            "Epoch: 48 \t Loss: 147.46508224283855\n",
            "Epoch: 49 \t Loss: 147.39873795572916\n",
            "Epoch: 50 \t Loss: 147.2400802246094\n"
          ]
        }
      ],
      "source": [
        "import torch\n",
        "import torch.nn as nn\n",
        "import torch.optim as optim\n",
        "from torch.utils.data import DataLoader\n",
        "from torchvision import datasets, transforms\n",
        "\n",
        "# Set device\n",
        "device = torch.device(\"cuda\" if torch.cuda.is_available() else \"cpu\")\n",
        "\n",
        "# Parameters\n",
        "original_dim = 784\n",
        "intermediate_dim = 256\n",
        "latent_dim = 2\n",
        "batch_size = 100\n",
        "epochs = 50\n",
        "learning_rate = 0.01\n",
        "\n",
        "# MNIST DataLoader\n",
        "transform = transforms.Compose([transforms.ToTensor(), transforms.Lambda(lambda x: torch.flatten(x))])\n",
        "train_loader = DataLoader(datasets.MNIST('./data', train=True, download=True, transform=transform), batch_size=batch_size, shuffle=True)\n",
        "test_loader = DataLoader(datasets.MNIST('./data', train=False, transform=transform), batch_size=batch_size)\n",
        "\n",
        "# VAE Model\n",
        "class VAE(nn.Module):\n",
        "    def __init__(self):\n",
        "        super(VAE, self).__init__()\n",
        "\n",
        "        # Encoder\n",
        "        self.fc1 = nn.Linear(original_dim, intermediate_dim)\n",
        "        self.fc_mean = nn.Linear(intermediate_dim, latent_dim)\n",
        "        self.fc_logvar = nn.Linear(intermediate_dim, latent_dim)\n",
        "\n",
        "        # Decoder\n",
        "        self.fc3 = nn.Linear(latent_dim, intermediate_dim)\n",
        "        self.fc4 = nn.Linear(intermediate_dim, original_dim)\n",
        "\n",
        "    def encode(self, x):\n",
        "        h = torch.relu(self.fc1(x))\n",
        "        return self.fc_mean(h), self.fc_logvar(h)\n",
        "\n",
        "    def reparameterize(self, mu, logvar):\n",
        "        std = torch.exp(0.5 * logvar)\n",
        "        eps = torch.randn_like(std)\n",
        "        return mu + eps * std\n",
        "\n",
        "    def decode(self, z):\n",
        "        h = torch.relu(self.fc3(z))\n",
        "        return torch.sigmoid(self.fc4(h))\n",
        "\n",
        "    def forward(self, x):\n",
        "        mu, logvar = self.encode(x)\n",
        "        z = self.reparameterize(mu, logvar)\n",
        "        return self.decode(z), mu, logvar\n",
        "\n",
        "model = VAE().to(device)\n",
        "optimizer = optim.Adam(model.parameters(), lr=learning_rate)\n",
        "\n",
        "# Loss function\n",
        "def loss_function(recon_x, x, mu, logvar):\n",
        "    BCE = nn.functional.binary_cross_entropy(recon_x, x, reduction='sum')\n",
        "    KLD = -0.5 * torch.sum(1 + logvar - mu.pow(2) - logvar.exp())\n",
        "    return BCE + KLD\n",
        "\n",
        "# Training loop\n",
        "def train(epoch):\n",
        "    model.train()\n",
        "    train_loss = 0\n",
        "    for batch_idx, (data, _) in enumerate(train_loader):\n",
        "        data = data.to(device)\n",
        "        optimizer.zero_grad()\n",
        "        recon_batch, mu, logvar = model(data)\n",
        "        loss = loss_function(recon_batch, data, mu, logvar)\n",
        "        loss.backward()\n",
        "        train_loss += loss.item()\n",
        "        optimizer.step()\n",
        "\n",
        "    print(f\"Epoch: {epoch} \\t Loss: {train_loss / len(train_loader.dataset)}\")\n",
        "\n",
        "# Run the training\n",
        "for epoch in range(1, epochs + 1):\n",
        "    train(epoch)\n"
      ]
    }
  ]
}