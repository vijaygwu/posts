{
  "nbformat": 4,
  "nbformat_minor": 0,
  "metadata": {
    "colab": {
      "provenance": [],
      "machine_shape": "hm",
      "gpuType": "A100",
      "authorship_tag": "ABX9TyPtG1uj4xmr2IAjXdxUPeqC",
      "include_colab_link": true
    },
    "kernelspec": {
      "name": "python3",
      "display_name": "Python 3"
    },
    "language_info": {
      "name": "python"
    },
    "accelerator": "GPU"
  },
  "cells": [
    {
      "cell_type": "markdown",
      "metadata": {
        "id": "view-in-github",
        "colab_type": "text"
      },
      "source": [
        "<a href=\"https://colab.research.google.com/github/vijaygwu/classideas/blob/main/BanditUCB.ipynb\" target=\"_parent\"><img src=\"https://colab.research.google.com/assets/colab-badge.svg\" alt=\"Open In Colab\"/></a>"
      ]
    },
    {
      "cell_type": "code",
      "execution_count": 1,
      "metadata": {
        "colab": {
          "base_uri": "https://localhost:8080/"
        },
        "id": "vmUC0yJjD51i",
        "outputId": "6661b077-717e-4486-a57c-f32e3b35a73c"
      },
      "outputs": [
        {
          "output_type": "stream",
          "name": "stdout",
          "text": [
            "[0.30769231 0.16       0.79059829]\n"
          ]
        }
      ],
      "source": [
        "import numpy as np\n",
        "\n",
        "class UCB:\n",
        "    def __init__(self, n_arms):\n",
        "        self.n_arms = n_arms\n",
        "        self.counts = np.zeros(n_arms)  # Number of times each arm has been pulled\n",
        "        self.values = np.zeros(n_arms)  # Average value (reward) received from each arm\n",
        "\n",
        "    def select_arm(self):\n",
        "        \"\"\"Return the index of the next arm to pull.\"\"\"\n",
        "        n_total = sum(self.counts)\n",
        "        if n_total == 0:\n",
        "            return np.random.randint(self.n_arms)\n",
        "\n",
        "        # Compute the UCB values for all arms\n",
        "        ucb_values = [self.values[i] + np.sqrt((2 * np.log(n_total)) / self.counts[i])\n",
        "                      if self.counts[i] > 0 else float('inf') for i in range(self.n_arms)]\n",
        "\n",
        "        return np.argmax(ucb_values)\n",
        "\n",
        "    def update(self, chosen_arm, reward):\n",
        "        \"\"\"Update the counts and values based on the received reward.\"\"\"\n",
        "        self.counts[chosen_arm] += 1\n",
        "        n = self.counts[chosen_arm]\n",
        "        value = self.values[chosen_arm]\n",
        "        # Running average of the values\n",
        "        self.values[chosen_arm] = ((n - 1) / n) * value + (1 / n) * reward\n",
        "\n",
        "# Example usage:\n",
        "n_arms = 3\n",
        "bandit = UCB(n_arms)\n",
        "\n",
        "for _ in range(1000):\n",
        "    chosen_arm = bandit.select_arm()\n",
        "    # Here, you'd pull the chosen arm and observe a reward.\n",
        "    # For this example, let's simulate a reward using a random choice.\n",
        "    reward = np.random.choice([0, 1], p=[0.8 if chosen_arm != 2 else 0.2, 0.2 if chosen_arm != 2 else 0.8])\n",
        "    bandit.update(chosen_arm, reward)\n",
        "\n",
        "print(bandit.values)\n"
      ]
    },
    {
      "cell_type": "markdown",
      "source": [
        "In the above implementation:\n",
        "\n",
        "The select_arm method computes the UCB for each arm. If an arm hasn't been selected yet, its UCB is set to infinity to ensure it's selected next.\n",
        "The update method adjusts the running average reward for the selected arm based on the observed reward.\n"
      ],
      "metadata": {
        "id": "RBVhJmLpEPaK"
      }
    },
    {
      "cell_type": "markdown",
      "source": [],
      "metadata": {
        "id": "14JmhNLBETX-"
      }
    }
  ]
}